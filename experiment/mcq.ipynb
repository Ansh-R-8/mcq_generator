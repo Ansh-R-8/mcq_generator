{
 "cells": [
  {
   "cell_type": "code",
   "execution_count": 51,
   "metadata": {},
   "outputs": [],
   "source": [
    "import os\n",
    "import json\n",
    "import pandas as pd\n",
    "import traceback"
   ]
  },
  {
   "cell_type": "code",
   "execution_count": 52,
   "metadata": {},
   "outputs": [],
   "source": [
    "#from langchain.chat_models import ChatOpenAI\n",
    "\n",
    "# Using the google AI studio api\n",
    "from langchain_google_genai import ChatGoogleGenerativeAI\n"
   ]
  },
  {
   "cell_type": "code",
   "execution_count": 29,
   "metadata": {},
   "outputs": [
    {
     "data": {
      "text/plain": [
       "True"
      ]
     },
     "execution_count": 29,
     "metadata": {},
     "output_type": "execute_result"
    }
   ],
   "source": [
    "from dotenv import load_dotenv\n",
    "\n",
    "load_dotenv()"
   ]
  },
  {
   "cell_type": "code",
   "execution_count": 30,
   "metadata": {},
   "outputs": [],
   "source": [
    "KEY = os.getenv(\"GOOGLE_API_KEY\")"
   ]
  },
  {
   "cell_type": "code",
   "execution_count": 70,
   "metadata": {},
   "outputs": [],
   "source": [
    "#llm = ChatOpenAI(openai_api_key = KEY, model_name = \"gpt-3.5-turbo\", temperature = 0.5) \n",
    "# temperature range is 0 to 2\n",
    "\n",
    "llm = ChatGoogleGenerativeAI(model = \"gemini-pro\", temperature=0.5)"
   ]
  },
  {
   "cell_type": "code",
   "execution_count": 71,
   "metadata": {},
   "outputs": [
    {
     "data": {
      "text/plain": [
       "ChatGoogleGenerativeAI(model='models/gemini-pro', google_api_key=SecretStr('**********'), temperature=0.5, client=<google.ai.generativelanguage_v1beta.services.generative_service.client.GenerativeServiceClient object at 0x000002683293FD10>, default_metadata=())"
      ]
     },
     "execution_count": 71,
     "metadata": {},
     "output_type": "execute_result"
    }
   ],
   "source": [
    "llm"
   ]
  },
  {
   "cell_type": "code",
   "execution_count": 55,
   "metadata": {},
   "outputs": [],
   "source": [
    "#from langchain.llms import OpenAI\n",
    "#from langchain.chat_models import ChatOpenAI\n",
    "from langchain.prompts import PromptTemplate\n",
    "from langchain.chains import LLMChain\n",
    "from langchain.chains import SequentialChain\n",
    "from langchain.callbacks import get_openai_callback\n",
    "import PyPDF2"
   ]
  },
  {
   "cell_type": "code",
   "execution_count": 98,
   "metadata": {},
   "outputs": [],
   "source": [
    "RESPONSE_JSON = {\n",
    "    \"1\" : {\n",
    "        \"mcq\" : \"multiple choice questions\",\n",
    "        \"options\" : {\n",
    "            \"a\" : \"choice here\",\n",
    "            \"b\" : \"choice here\",\n",
    "            \"c\" : \"choice here\",\n",
    "            \"d\" : \"choice here\",\n",
    "        },\n",
    "        \"correct\" : \"correct answer\",\n",
    "    },\n",
    "    \"2\" : {\n",
    "        \"mcq\" : \"multiple choice questions\",\n",
    "        \"options\" : {\n",
    "            \"a\" : \"choice here\",\n",
    "            \"b\" : \"choice here\",\n",
    "            \"c\" : \"choice here\",\n",
    "            \"d\" : \"choice here\",\n",
    "        },\n",
    "    },\n",
    "    \"3\" : {\n",
    "        \"mcq\" : \"multiple choice questions\",\n",
    "        \"options\" : {\n",
    "            \"a\" : \"choice here\",\n",
    "            \"b\" : \"choice here\",\n",
    "            \"c\" : \"choice here\",\n",
    "            \"d\" : \"choice here\",\n",
    "        },\n",
    "    },\n",
    "    \"4\" : {\n",
    "        \"mcq\" : \"multiple choice questions\",\n",
    "        \"options\" : {\n",
    "            \"a\" : \"choice here\",\n",
    "            \"b\" : \"choice here\",\n",
    "            \"c\" : \"choice here\",\n",
    "            \"d\" : \"choice here\",\n",
    "        },\n",
    "    },\n",
    "    \"5\" : {\n",
    "        \"mcq\" : \"multiple choice questions\",\n",
    "        \"options\" : {\n",
    "            \"a\" : \"choice here\",\n",
    "            \"b\" : \"choice here\",\n",
    "            \"c\" : \"choice here\",\n",
    "            \"d\" : \"choice here\",\n",
    "        },\n",
    "    }\n",
    "}"
   ]
  },
  {
   "cell_type": "code",
   "execution_count": 140,
   "metadata": {},
   "outputs": [],
   "source": [
    "TEMPLATE = \"\"\"\n",
    "Text : {text}\n",
    "You are an expert MCQ maker. Given the above text, it is your job to \\\n",
    "create a quiz of {number} multiple choice questions for {subject} students in {tone} tone.\n",
    "Make sure the questions are not repeated and check all the questions to be conforming the text as well.\n",
    "Make sure to format your response like RESPONSE_JSON and use it as a guide. \\\n",
    "Ensure to make {number} MCQs\n",
    "{response_json}\n",
    "\n",
    "\"\"\""
   ]
  },
  {
   "cell_type": "code",
   "execution_count": 141,
   "metadata": {},
   "outputs": [],
   "source": [
    "# designing the prompt using prompt_template\n",
    "quiz_generation_prompt = PromptTemplate(\n",
    "    input_variables=[\"text\",\"number\",\"subject\",\"tone\",\"response_json\"],\n",
    "    template = TEMPLATE\n",
    ")"
   ]
  },
  {
   "cell_type": "code",
   "execution_count": 142,
   "metadata": {},
   "outputs": [],
   "source": [
    "# creating llm chain\n",
    "# used for connecting various component here 1st is llm and other is prompt\n",
    "quiz_chain = LLMChain(llm = llm, prompt = quiz_generation_prompt, output_key = \"quiz\", verbose = True)"
   ]
  },
  {
   "cell_type": "code",
   "execution_count": 143,
   "metadata": {},
   "outputs": [],
   "source": [
    "TEMPLATE2 = \"\"\"\n",
    "You are an expert english grammarian and writer. Given a Multiple choice quiz for {subject} students. \\\n",
    "You need to evaluate the complexity of the question and give a complete analysis of the quiz. Only use at max 50 words for complexity.\n",
    "if the quiz is not as per with the cognitive and analytical abilities of the students,\\\n",
    "update the quiz questions which needs to be changed and change the tone such that it perfectly fits the students level. \\\n",
    "Quiz_MCQs:\n",
    "{quiz}\n",
    "\n",
    "check from an expert English writer of the above quiz:\n",
    "\"\"\""
   ]
  },
  {
   "cell_type": "code",
   "execution_count": 144,
   "metadata": {},
   "outputs": [],
   "source": [
    "quiz_evaluation_prompt = PromptTemplate(\n",
    "    input_variables=['subject', 'quiz'],\n",
    "    template= TEMPLATE2\n",
    ")"
   ]
  },
  {
   "cell_type": "code",
   "execution_count": 145,
   "metadata": {},
   "outputs": [],
   "source": [
    "review_chain = LLMChain(llm = llm, prompt = quiz_evaluation_prompt, output_key = \"review\", verbose = True)\n"
   ]
  },
  {
   "cell_type": "code",
   "execution_count": 146,
   "metadata": {},
   "outputs": [],
   "source": [
    "generate_evaluation_chain = SequentialChain(chains = [quiz_chain,review_chain], input_variables = [\"text\",\"number\",\"subject\",\"tone\",\"response_json\"],\n",
    "                                            output_variables = [\"quiz\", \"review\"], verbose = True)"
   ]
  },
  {
   "cell_type": "code",
   "execution_count": 147,
   "metadata": {},
   "outputs": [],
   "source": [
    "file = open(r\"C:\\Users\\anshr\\mcqgen\\data.txt\", 'r')\n",
    "text = file.read()"
   ]
  },
  {
   "cell_type": "code",
   "execution_count": 148,
   "metadata": {},
   "outputs": [
    {
     "data": {
      "text/plain": [
       "'{\"1\": {\"mcq\": \"multiple choice questions\", \"options\": {\"a\": \"choice here\", \"b\": \"choice here\", \"c\": \"choice here\", \"d\": \"choice here\"}, \"correct\": \"correct answer\"}, \"2\": {\"mcq\": \"multiple choice questions\", \"options\": {\"a\": \"choice here\", \"b\": \"choice here\", \"c\": \"choice here\", \"d\": \"choice here\"}}, \"3\": {\"mcq\": \"multiple choice questions\", \"options\": {\"a\": \"choice here\", \"b\": \"choice here\", \"c\": \"choice here\", \"d\": \"choice here\"}}, \"4\": {\"mcq\": \"multiple choice questions\", \"options\": {\"a\": \"choice here\", \"b\": \"choice here\", \"c\": \"choice here\", \"d\": \"choice here\"}}, \"5\": {\"mcq\": \"multiple choice questions\", \"options\": {\"a\": \"choice here\", \"b\": \"choice here\", \"c\": \"choice here\", \"d\": \"choice here\"}}}'"
      ]
     },
     "execution_count": 148,
     "metadata": {},
     "output_type": "execute_result"
    }
   ],
   "source": [
    "# Serialize the python dictionary into a JSON-formatted string\n",
    "json.dumps(RESPONSE_JSON)"
   ]
  },
  {
   "cell_type": "code",
   "execution_count": 149,
   "metadata": {},
   "outputs": [],
   "source": [
    "NUMBER = 5\n",
    "SUBJECT = \"machine learning\"\n",
    "TONE = \"simple\""
   ]
  },
  {
   "cell_type": "code",
   "execution_count": null,
   "metadata": {},
   "outputs": [],
   "source": [
    "# How to setup Token usage Tracking in Langchain\n",
    "with get_openai_callback() as cb:\n",
    "    response = generate_evaluation_chain(\n",
    "        {\n",
    "            \"text\" : text,\n",
    "            \"number\" : NUMBER,\n",
    "            \"subject\" : SUBJECT,\n",
    "            \"tone\" : TONE,\n",
    "            \"response_json\" : json.dumps(RESPONSE_JSON)\n",
    "        }\n",
    "    )"
   ]
  },
  {
   "cell_type": "code",
   "execution_count": 78,
   "metadata": {},
   "outputs": [],
   "source": [
    "# Implementing the custom callback Handler for Token Usage Tracking\n",
    "from langchain.callbacks.base import BaseCallbackHandler\n",
    "\n",
    "class TokenUsageCallbackHandler(BaseCallbackHandler):\n",
    "    def __init__(self):\n",
    "        self.total_tokens = 0\n",
    "\n",
    "    def on_llm_end(self,response, **kwargs):\n",
    "        self.total_tokens += response.usage_metadata.get('total_tokens', 0)\n",
    "\n",
    "    def get_total_tokens(self):\n",
    "        return self.total_tokens"
   ]
  },
  {
   "cell_type": "code",
   "execution_count": 150,
   "metadata": {},
   "outputs": [
    {
     "name": "stdout",
     "output_type": "stream",
     "text": [
      "\n",
      "\n",
      "\u001b[1m> Entering new SequentialChain chain...\u001b[0m\n",
      "\n",
      "\n",
      "\u001b[1m> Entering new LLMChain chain...\u001b[0m\n",
      "Prompt after formatting:\n",
      "\u001b[32;1m\u001b[1;3m\n",
      "Text : Machine learning (ML) is a field of study in artificial intelligence concerned with the development and study of statistical algorithms that can learn from data and generalize to unseen data, and thus perform tasks without explicit instructions.[1] Advances in the field of deep learning have allowed neural networks to surpass many previous approaches in performance.[2]\n",
      "\n",
      "ML finds application in many fields, including natural language processing, computer vision, speech recognition, email filtering, agriculture, and medicine.[3][4] The application of ML to business problems is known as predictive analytics.\n",
      "\n",
      "Statistics and mathematical optimization (mathematical programming) methods comprise the foundations of machine learning. Data mining is a related field of study, focusing on exploratory data analysis (EDA) via unsupervised learning.[6][7]\n",
      "\n",
      "From a theoretical viewpoint, probably approximately correct (PAC) learning provides a framework for describing machine learning.\n",
      "You are an expert MCQ maker. Given the above text, it is your job to create a quiz of 5 multiple choice questions for machine learning students in simple tone.\n",
      "Make sure the questions are not repeated and check all the questions to be conforming the text as well.\n",
      "Make sure to format your response like RESPONSE_JSON and use it as a guide. Ensure to make 5 MCQs\n",
      "{\"1\": {\"mcq\": \"multiple choice questions\", \"options\": {\"a\": \"choice here\", \"b\": \"choice here\", \"c\": \"choice here\", \"d\": \"choice here\"}, \"correct\": \"correct answer\"}, \"2\": {\"mcq\": \"multiple choice questions\", \"options\": {\"a\": \"choice here\", \"b\": \"choice here\", \"c\": \"choice here\", \"d\": \"choice here\"}}, \"3\": {\"mcq\": \"multiple choice questions\", \"options\": {\"a\": \"choice here\", \"b\": \"choice here\", \"c\": \"choice here\", \"d\": \"choice here\"}}, \"4\": {\"mcq\": \"multiple choice questions\", \"options\": {\"a\": \"choice here\", \"b\": \"choice here\", \"c\": \"choice here\", \"d\": \"choice here\"}}, \"5\": {\"mcq\": \"multiple choice questions\", \"options\": {\"a\": \"choice here\", \"b\": \"choice here\", \"c\": \"choice here\", \"d\": \"choice here\"}}}\n",
      "\n",
      "\u001b[0m\n",
      "\n",
      "\u001b[1m> Finished chain.\u001b[0m\n",
      "\n",
      "\n",
      "\u001b[1m> Entering new LLMChain chain...\u001b[0m\n",
      "Prompt after formatting:\n",
      "\u001b[32;1m\u001b[1;3m\n",
      "You are an expert english grammarian and writer. Given a Multiple choice quiz for machine learning students. You need to evaluate the complexity of the question and give a complete analysis of the quiz. Only use at max 50 words for complexity.\n",
      "if the quiz is not as per with the cognitive and analytical abilities of the students,update the quiz questions which needs to be changed and change the tone such that it perfectly fits the students level. Quiz_MCQs:\n",
      "RESPONSE_JSON = {\n",
      "\"1\": {\"mcq\": \"What is the primary focus of machine learning?\", \"options\": {\"a\": \"Developing algorithms that learn from data\", \"b\": \"Creating artificial intelligence systems\", \"c\": \"Improving computer vision\", \"d\": \"None of the above\"}, \"correct\": \"a\"},\n",
      "\"2\": {\"mcq\": \"Which field has significantly improved the performance of neural networks?\", \"options\": {\"a\": \"Natural language processing\", \"b\": \"Deep learning\", \"c\": \"Predictive analytics\", \"d\": \"Data mining\"}, \"correct\": \"b\"},\n",
      "\"3\": {\"mcq\": \"What is the application of machine learning to business problems known as?\", \"options\": {\"a\": \"Data science\", \"b\": \"Predictive analytics\", \"c\": \"Artificial intelligence\", \"d\": \"Machine learning engineering\"}, \"correct\": \"b\"},\n",
      "\"4\": {\"mcq\": \"Which of the following is NOT a foundation of machine learning?\", \"options\": {\"a\": \"Statistics\", \"b\": \"Computer science\", \"c\": \"Mathematical optimization\", \"d\": \"Data mining\"}, \"correct\": \"b\"},\n",
      "\"5\": {\"mcq\": \"What is the theoretical framework used to describe machine learning?\", \"options\": {\"a\": \"Probably approximately correct (PAC) learning\", \"b\": \"Unsupervised learning\", \"c\": \"Reinforcement learning\", \"d\": \"Supervised learning\"}, \"correct\": \"a\"}\n",
      "}\n",
      "\n",
      "check from an expert English writer of the above quiz:\n",
      "\u001b[0m\n",
      "\n",
      "\u001b[1m> Finished chain.\u001b[0m\n",
      "\n",
      "\u001b[1m> Finished chain.\u001b[0m\n"
     ]
    }
   ],
   "source": [
    "# initialize the custom callback handler\n",
    "token_usage_callback = TokenUsageCallbackHandler()\n",
    "\n",
    "# input data\n",
    "input_data = {\n",
    "    \"text\": text,\n",
    "    \"number\": NUMBER,\n",
    "    \"subject\": SUBJECT,\n",
    "    \"tone\": TONE,\n",
    "    \"response_json\": json.dumps(RESPONSE_JSON)\n",
    "}\n",
    "\n",
    "# Execute the chain with the callback\n",
    "response = generate_evaluation_chain(input_data)"
   ]
  },
  {
   "cell_type": "code",
   "execution_count": 80,
   "metadata": {},
   "outputs": [
    {
     "name": "stdout",
     "output_type": "stream",
     "text": [
      "Total tokens used: 0\n"
     ]
    }
   ],
   "source": [
    "total_tokens = token_usage_callback.get_total_tokens()\n",
    "print(f\"Total tokens used: {total_tokens}\")"
   ]
  },
  {
   "cell_type": "code",
   "execution_count": 151,
   "metadata": {},
   "outputs": [
    {
     "data": {
      "text/plain": [
       "{'text': 'Machine learning (ML) is a field of study in artificial intelligence concerned with the development and study of statistical algorithms that can learn from data and generalize to unseen data, and thus perform tasks without explicit instructions.[1] Advances in the field of deep learning have allowed neural networks to surpass many previous approaches in performance.[2]\\n\\nML finds application in many fields, including natural language processing, computer vision, speech recognition, email filtering, agriculture, and medicine.[3][4] The application of ML to business problems is known as predictive analytics.\\n\\nStatistics and mathematical optimization (mathematical programming) methods comprise the foundations of machine learning. Data mining is a related field of study, focusing on exploratory data analysis (EDA) via unsupervised learning.[6][7]\\n\\nFrom a theoretical viewpoint, probably approximately correct (PAC) learning provides a framework for describing machine learning.',\n",
       " 'number': 5,\n",
       " 'subject': 'machine learning',\n",
       " 'tone': 'simple',\n",
       " 'response_json': '{\"1\": {\"mcq\": \"multiple choice questions\", \"options\": {\"a\": \"choice here\", \"b\": \"choice here\", \"c\": \"choice here\", \"d\": \"choice here\"}, \"correct\": \"correct answer\"}, \"2\": {\"mcq\": \"multiple choice questions\", \"options\": {\"a\": \"choice here\", \"b\": \"choice here\", \"c\": \"choice here\", \"d\": \"choice here\"}}, \"3\": {\"mcq\": \"multiple choice questions\", \"options\": {\"a\": \"choice here\", \"b\": \"choice here\", \"c\": \"choice here\", \"d\": \"choice here\"}}, \"4\": {\"mcq\": \"multiple choice questions\", \"options\": {\"a\": \"choice here\", \"b\": \"choice here\", \"c\": \"choice here\", \"d\": \"choice here\"}}, \"5\": {\"mcq\": \"multiple choice questions\", \"options\": {\"a\": \"choice here\", \"b\": \"choice here\", \"c\": \"choice here\", \"d\": \"choice here\"}}}',\n",
       " 'quiz': 'RESPONSE_JSON = {\\n\"1\": {\"mcq\": \"What is the primary focus of machine learning?\", \"options\": {\"a\": \"Developing algorithms that learn from data\", \"b\": \"Creating artificial intelligence systems\", \"c\": \"Improving computer vision\", \"d\": \"None of the above\"}, \"correct\": \"a\"},\\n\"2\": {\"mcq\": \"Which field has significantly improved the performance of neural networks?\", \"options\": {\"a\": \"Natural language processing\", \"b\": \"Deep learning\", \"c\": \"Predictive analytics\", \"d\": \"Data mining\"}, \"correct\": \"b\"},\\n\"3\": {\"mcq\": \"What is the application of machine learning to business problems known as?\", \"options\": {\"a\": \"Data science\", \"b\": \"Predictive analytics\", \"c\": \"Artificial intelligence\", \"d\": \"Machine learning engineering\"}, \"correct\": \"b\"},\\n\"4\": {\"mcq\": \"Which of the following is NOT a foundation of machine learning?\", \"options\": {\"a\": \"Statistics\", \"b\": \"Computer science\", \"c\": \"Mathematical optimization\", \"d\": \"Data mining\"}, \"correct\": \"b\"},\\n\"5\": {\"mcq\": \"What is the theoretical framework used to describe machine learning?\", \"options\": {\"a\": \"Probably approximately correct (PAC) learning\", \"b\": \"Unsupervised learning\", \"c\": \"Reinforcement learning\", \"d\": \"Supervised learning\"}, \"correct\": \"a\"}\\n}',\n",
       " 'review': \"**Complexity:**\\n\\nThe quiz questions are clear and concise, with options that cover a range of possible answers. The questions are appropriate for students with a basic understanding of machine learning concepts.\\n\\n**Analysis:**\\n\\nThe quiz effectively assesses students' knowledge of the fundamental principles and applications of machine learning. It covers key areas such as the definition of machine learning, its impact on neural networks, and its use in business.\\n\\n**Updated Quiz Questions:**\\n\\nNo changes are necessary, as the quiz is well-structured and aligns with the cognitive and analytical abilities of the students.\"}"
      ]
     },
     "execution_count": 151,
     "metadata": {},
     "output_type": "execute_result"
    }
   ],
   "source": [
    "response"
   ]
  },
  {
   "cell_type": "code",
   "execution_count": 156,
   "metadata": {},
   "outputs": [],
   "source": [
    "quiz_str = response.get(\"quiz\")"
   ]
  },
  {
   "cell_type": "code",
   "execution_count": 161,
   "metadata": {},
   "outputs": [
    {
     "name": "stdout",
     "output_type": "stream",
     "text": [
      "{\n",
      "\"1\": {\"mcq\": \"What is the primary focus of machine learning?\", \"options\": {\"a\": \"Developing algorithms that learn from data\", \"b\": \"Creating artificial intelligence systems\", \"c\": \"Improving computer vision\", \"d\": \"None of the above\"}, \"correct\": \"a\"},\n",
      "\"2\": {\"mcq\": \"Which field has significantly improved the performance of neural networks?\", \"options\": {\"a\": \"Natural language processing\", \"b\": \"Deep learning\", \"c\": \"Predictive analytics\", \"d\": \"Data mining\"}, \"correct\": \"b\"},\n",
      "\"3\": {\"mcq\": \"What is the application of machine learning to business problems known as?\", \"options\": {\"a\": \"Data science\", \"b\": \"Predictive analytics\", \"c\": \"Artificial intelligence\", \"d\": \"Machine learning engineering\"}, \"correct\": \"b\"},\n",
      "\"4\": {\"mcq\": \"Which of the following is NOT a foundation of machine learning?\", \"options\": {\"a\": \"Statistics\", \"b\": \"Computer science\", \"c\": \"Mathematical optimization\", \"d\": \"Data mining\"}, \"correct\": \"b\"},\n",
      "\"5\": {\"mcq\": \"What is the theoretical framework used to describe machine learning?\", \"options\": {\"a\": \"Probably approximately correct (PAC) learning\", \"b\": \"Unsupervised learning\", \"c\": \"Reinforcement learning\", \"d\": \"Supervised learning\"}, \"correct\": \"a\"}\n",
      "}\n"
     ]
    }
   ],
   "source": [
    "print(quiz_str)"
   ]
  },
  {
   "cell_type": "code",
   "execution_count": 160,
   "metadata": {},
   "outputs": [],
   "source": [
    "quiz_str = quiz_str.replace('RESPONSE_JSON = ', '')"
   ]
  },
  {
   "cell_type": "code",
   "execution_count": 159,
   "metadata": {},
   "outputs": [
    {
     "data": {
      "text/plain": [
       "str"
      ]
     },
     "execution_count": 159,
     "metadata": {},
     "output_type": "execute_result"
    }
   ],
   "source": [
    "type(quiz_str)"
   ]
  },
  {
   "cell_type": "code",
   "execution_count": 162,
   "metadata": {},
   "outputs": [],
   "source": [
    "quiz = json.loads(quiz_str)"
   ]
  },
  {
   "cell_type": "code",
   "execution_count": null,
   "metadata": {},
   "outputs": [],
   "source": [
    "print(f\"Total tokens:{cb.total_tokens}\")\n",
    "print(f\"Total tokens:{cb.prompt_tokens}\")\n",
    "print(f\"Total tokens:{cb.completion_tokens}\")\n",
    "print(f\"Total tokens:{cb.total_cost}\")"
   ]
  },
  {
   "cell_type": "code",
   "execution_count": 164,
   "metadata": {},
   "outputs": [],
   "source": [
    "quiz_table_data = []\n",
    "for key,value in quiz.items():\n",
    "    mcq = value['mcq']\n",
    "    options = \" | \".join(\n",
    "        [\n",
    "            f\"{option} : {option_value}\"\n",
    "            for option, option_value in value[\"options\"].items()\n",
    "        ]\n",
    "    )\n",
    "    correct = value[\"correct\"]\n",
    "    quiz_table_data.append({\"MCQ\" : mcq, \"Choices\": options, \"Correct\": correct})"
   ]
  },
  {
   "cell_type": "code",
   "execution_count": 166,
   "metadata": {},
   "outputs": [],
   "source": [
    "df = pd.DataFrame(quiz_table_data)"
   ]
  },
  {
   "cell_type": "code",
   "execution_count": 179,
   "metadata": {},
   "outputs": [
    {
     "data": {
      "text/plain": [
       "'a : Developing algorithms that learn from data | b : Creating artificial intelligence systems | c : Improving computer vision | d : None of the above'"
      ]
     },
     "execution_count": 179,
     "metadata": {},
     "output_type": "execute_result"
    }
   ],
   "source": [
    "df['Choices'][0]"
   ]
  }
 ],
 "metadata": {
  "kernelspec": {
   "display_name": "Python 3",
   "language": "python",
   "name": "python3"
  },
  "language_info": {
   "codemirror_mode": {
    "name": "ipython",
    "version": 3
   },
   "file_extension": ".py",
   "mimetype": "text/x-python",
   "name": "python",
   "nbconvert_exporter": "python",
   "pygments_lexer": "ipython3",
   "version": "3.11.11"
  }
 },
 "nbformat": 4,
 "nbformat_minor": 2
}
